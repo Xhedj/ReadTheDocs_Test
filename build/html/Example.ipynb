{
 "cells": [
  {
   "cell_type": "markdown",
   "id": "46fd5bb7",
   "metadata": {},
   "source": [
    "## Welcome to the jupyter demo"
   ]
  },
  {
   "cell_type": "code",
   "execution_count": 1,
   "id": "186dd103",
   "metadata": {
    "execution": {
     "iopub.execute_input": "2023-04-06T10:01:30.496260Z",
     "iopub.status.busy": "2023-04-06T10:01:30.495904Z",
     "iopub.status.idle": "2023-04-06T10:01:30.502674Z",
     "shell.execute_reply": "2023-04-06T10:01:30.502072Z"
    }
   },
   "outputs": [],
   "source": [
    "import string\n"
   ]
  },
  {
   "cell_type": "code",
   "execution_count": 2,
   "id": "8297e33c",
   "metadata": {
    "execution": {
     "iopub.execute_input": "2023-04-06T10:01:30.505941Z",
     "iopub.status.busy": "2023-04-06T10:01:30.505658Z",
     "iopub.status.idle": "2023-04-06T10:01:30.661667Z",
     "shell.execute_reply": "2023-04-06T10:01:30.660827Z"
    }
   },
   "outputs": [
    {
     "name": "stdout",
     "output_type": "stream",
     "text": [
      "26\n"
     ]
    }
   ],
   "source": [
    "# E(k1 , m) = D(k2 , C)\n",
    "alphabet = string.ascii_lowercase\n",
    "print(len(alphabet))\n",
    "lk1 = []\n",
    "lk2 = []\n",
    "for i in alphabet[0:25:]:\n",
    "    for j in alphabet[1::]:\n",
    "        for k in alphabet[2::]:\n",
    "            for l in alphabet[3::]:\n",
    "                key:str = i+j+k+l\n",
    "                lk1.append(key)\n",
    "                lk2 = lk1"
   ]
  },
  {
   "cell_type": "markdown",
   "id": "64a63747",
   "metadata": {},
   "source": [
    "This is the starting code for a Meet in the Middle attack! Works for DES encryption."
   ]
  }
 ],
 "metadata": {
  "kernelspec": {
   "display_name": "Python 3 (ipykernel)",
   "language": "python",
   "name": "python3"
  },
  "language_info": {
   "codemirror_mode": {
    "name": "ipython",
    "version": 3
   },
   "file_extension": ".py",
   "mimetype": "text/x-python",
   "name": "python",
   "nbconvert_exporter": "python",
   "pygments_lexer": "ipython3",
   "version": "3.11.2"
  }
 },
 "nbformat": 4,
 "nbformat_minor": 5
}
