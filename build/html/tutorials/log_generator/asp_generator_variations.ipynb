{
 "cells": [
  {
   "cell_type": "markdown",
   "id": "0009d44f-be72-4bb2-9ca6-487a2be24ce1",
   "metadata": {
    "tags": []
   },
   "source": [
    "# Generate pm4py log using ASP Generator\n",
    "\n",
    "ASP log generator uses the decl model which converts the model into abudction logic programming and pass to the clingo.\n",
    "Clingo generates the output which is turned into the pm4py log or can be created a .xes file.\n"
   ]
  },
  {
   "cell_type": "code",
   "execution_count": 1,
   "id": "1eb21bf2-bf41-46b2-96e3-806047cc8cb1",
   "metadata": {
    "execution": {
     "iopub.execute_input": "2023-04-06T10:01:42.316290Z",
     "iopub.status.busy": "2023-04-06T10:01:42.316036Z",
     "iopub.status.idle": "2023-04-06T10:01:42.435707Z",
     "shell.execute_reply": "2023-04-06T10:01:42.434188Z"
    },
    "scrolled": true
   },
   "outputs": [
    {
     "name": "stdout",
     "output_type": "stream",
     "text": [
      "Python 3.11.2\r\n"
     ]
    }
   ],
   "source": [
    "!python --version"
   ]
  },
  {
   "cell_type": "code",
   "execution_count": 2,
   "id": "2938753f-7b7c-4095-b918-1a667621e50d",
   "metadata": {
    "execution": {
     "iopub.execute_input": "2023-04-06T10:01:42.438822Z",
     "iopub.status.busy": "2023-04-06T10:01:42.438532Z",
     "iopub.status.idle": "2023-04-06T10:01:42.579821Z",
     "shell.execute_reply": "2023-04-06T10:01:42.578948Z"
    },
    "tags": []
   },
   "outputs": [
    {
     "ename": "ModuleNotFoundError",
     "evalue": "No module named 'src'",
     "output_type": "error",
     "traceback": [
      "\u001b[0;31m---------------------------------------------------------------------------\u001b[0m",
      "\u001b[0;31mModuleNotFoundError\u001b[0m                       Traceback (most recent call last)",
      "Cell \u001b[0;32mIn [2], line 8\u001b[0m\n\u001b[1;32m      5\u001b[0m SCRIPT_DIR \u001b[38;5;241m=\u001b[39m pathlib\u001b[38;5;241m.\u001b[39mPath(\u001b[38;5;124m\"\u001b[39m\u001b[38;5;124m..\u001b[39m\u001b[38;5;124m\"\u001b[39m, \u001b[38;5;124m\"\u001b[39m\u001b[38;5;124m..\u001b[39m\u001b[38;5;124m\"\u001b[39m, \u001b[38;5;124m\"\u001b[39m\u001b[38;5;124msrc\u001b[39m\u001b[38;5;124m\"\u001b[39m)\u001b[38;5;241m.\u001b[39mresolve()\n\u001b[1;32m      6\u001b[0m sys\u001b[38;5;241m.\u001b[39mpath\u001b[38;5;241m.\u001b[39mappend(os\u001b[38;5;241m.\u001b[39mpath\u001b[38;5;241m.\u001b[39mdirname(SCRIPT_DIR))\n\u001b[0;32m----> 8\u001b[0m \u001b[38;5;28;01mfrom\u001b[39;00m \u001b[38;5;21;01msrc\u001b[39;00m\u001b[38;5;21;01m.\u001b[39;00m\u001b[38;5;21;01mdeclare4py\u001b[39;00m\u001b[38;5;21;01m.\u001b[39;00m\u001b[38;5;21;01mpm_tasks\u001b[39;00m\u001b[38;5;21;01m.\u001b[39;00m\u001b[38;5;21;01mlog_generation\u001b[39;00m\u001b[38;5;21;01m.\u001b[39;00m\u001b[38;5;21;01masp\u001b[39;00m\u001b[38;5;21;01m.\u001b[39;00m\u001b[38;5;21;01masp_generator\u001b[39;00m \u001b[38;5;28;01mimport\u001b[39;00m AspGenerator\n\u001b[1;32m      9\u001b[0m \u001b[38;5;28;01mfrom\u001b[39;00m \u001b[38;5;21;01msrc\u001b[39;00m\u001b[38;5;21;01m.\u001b[39;00m\u001b[38;5;21;01mdeclare4py\u001b[39;00m\u001b[38;5;21;01m.\u001b[39;00m\u001b[38;5;21;01mprocess_models\u001b[39;00m\u001b[38;5;21;01m.\u001b[39;00m\u001b[38;5;21;01mdecl_model\u001b[39;00m \u001b[38;5;28;01mimport\u001b[39;00m DeclModel\n",
      "\u001b[0;31mModuleNotFoundError\u001b[0m: No module named 'src'"
     ]
    }
   ],
   "source": [
    "import sys\n",
    "import os\n",
    "import pathlib\n",
    "\n",
    "SCRIPT_DIR = pathlib.Path(\"..\", \"..\", \"src\").resolve()\n",
    "sys.path.append(os.path.dirname(SCRIPT_DIR))\n",
    "\n",
    "from src.declare4py.pm_tasks.log_generation.asp.asp_generator import AspGenerator\n",
    "from src.declare4py.process_models.decl_model import DeclModel"
   ]
  },
  {
   "cell_type": "code",
   "execution_count": 3,
   "id": "0b9d5123-dc4f-4a75-bdd1-d4235d636772",
   "metadata": {
    "execution": {
     "iopub.execute_input": "2023-04-06T10:01:42.583792Z",
     "iopub.status.busy": "2023-04-06T10:01:42.583093Z",
     "iopub.status.idle": "2023-04-06T10:01:42.588150Z",
     "shell.execute_reply": "2023-04-06T10:01:42.587422Z"
    },
    "tags": []
   },
   "outputs": [],
   "source": [
    "decl_model_1 = \"decl_files/Response.decl\"\n",
    "decl_model_2 = \"decl_files/MikeModel.decl\"\n",
    "decl_model_3 = \"decl_files/reference10.decl\"\n",
    "decl_model_4 = \"diagonisis.decl\"\n",
    "decl_folder = \"decl_files\"\n",
    "\n",
    "decl_filename = decl_model_4.split(\".\")[0]\n",
    "output_file = pathlib.Path(\".\", f\"{decl_filename}.xes\")\n",
    "decl_file = pathlib.Path(\".\", decl_folder, decl_model_4)"
   ]
  },
  {
   "cell_type": "code",
   "execution_count": 4,
   "id": "4b2d84b6-6a5a-4b3c-a0bb-335981eb6374",
   "metadata": {
    "execution": {
     "iopub.execute_input": "2023-04-06T10:01:42.591689Z",
     "iopub.status.busy": "2023-04-06T10:01:42.591225Z",
     "iopub.status.idle": "2023-04-06T10:01:42.608654Z",
     "shell.execute_reply": "2023-04-06T10:01:42.607449Z"
    }
   },
   "outputs": [
    {
     "ename": "NameError",
     "evalue": "name 'DeclModel' is not defined",
     "output_type": "error",
     "traceback": [
      "\u001b[0;31m---------------------------------------------------------------------------\u001b[0m",
      "\u001b[0;31mNameError\u001b[0m                                 Traceback (most recent call last)",
      "Cell \u001b[0;32mIn [4], line 3\u001b[0m\n\u001b[1;32m      1\u001b[0m \u001b[38;5;66;03m# Create Declare model by reading declare model from a file.\u001b[39;00m\n\u001b[0;32m----> 3\u001b[0m model: DeclModel \u001b[38;5;241m=\u001b[39m \u001b[43mDeclModel\u001b[49m()\u001b[38;5;241m.\u001b[39mparse_from_file(decl_file)\n",
      "\u001b[0;31mNameError\u001b[0m: name 'DeclModel' is not defined"
     ]
    }
   ],
   "source": [
    "# Create Declare model by reading declare model from a file.\n",
    "\n",
    "model: DeclModel = DeclModel().parse_from_file(decl_file)"
   ]
  },
  {
   "cell_type": "code",
   "execution_count": 5,
   "id": "f4b87ba4-2740-4006-b40f-b0ae95bab202",
   "metadata": {
    "execution": {
     "iopub.execute_input": "2023-04-06T10:01:42.613161Z",
     "iopub.status.busy": "2023-04-06T10:01:42.612620Z",
     "iopub.status.idle": "2023-04-06T10:01:42.617210Z",
     "shell.execute_reply": "2023-04-06T10:01:42.616397Z"
    }
   },
   "outputs": [],
   "source": [
    "#general Setting\n",
    "\n",
    "# Number of traces that should be generated\n",
    "num_of_traces = 20\n",
    "\n",
    "# Minimum and maximum number of events a trace can contain\n",
    "(num_min_events, num_max_events) = (2, 5)\n"
   ]
  },
  {
   "cell_type": "code",
   "execution_count": 6,
   "id": "b9dc4474-319b-40e0-95a7-c8ac36a18f2b",
   "metadata": {
    "execution": {
     "iopub.execute_input": "2023-04-06T10:01:42.620183Z",
     "iopub.status.busy": "2023-04-06T10:01:42.619682Z",
     "iopub.status.idle": "2023-04-06T10:01:42.638563Z",
     "shell.execute_reply": "2023-04-06T10:01:42.637550Z"
    }
   },
   "outputs": [
    {
     "ename": "NameError",
     "evalue": "name 'AspGenerator' is not defined",
     "output_type": "error",
     "traceback": [
      "\u001b[0;31m---------------------------------------------------------------------------\u001b[0m",
      "\u001b[0;31mNameError\u001b[0m                                 Traceback (most recent call last)",
      "Cell \u001b[0;32mIn [6], line 3\u001b[0m\n\u001b[1;32m      1\u001b[0m \u001b[38;5;66;03m# Initializing ASP generator with default distributor which is uniform.\u001b[39;00m\n\u001b[0;32m----> 3\u001b[0m asp \u001b[38;5;241m=\u001b[39m \u001b[43mAspGenerator\u001b[49m(\n\u001b[1;32m      4\u001b[0m     model,\n\u001b[1;32m      5\u001b[0m     num_of_traces,\n\u001b[1;32m      6\u001b[0m     num_min_events,\n\u001b[1;32m      7\u001b[0m     num_max_events\n\u001b[1;32m      8\u001b[0m )\n",
      "\u001b[0;31mNameError\u001b[0m: name 'AspGenerator' is not defined"
     ]
    }
   ],
   "source": [
    "# Initializing ASP generator with default distributor which is uniform.\n",
    "\n",
    "asp = AspGenerator(\n",
    "    model,\n",
    "    num_of_traces,\n",
    "    num_min_events,\n",
    "    num_max_events\n",
    ")"
   ]
  },
  {
   "cell_type": "code",
   "execution_count": 7,
   "id": "fd662d2d",
   "metadata": {
    "execution": {
     "iopub.execute_input": "2023-04-06T10:01:42.642194Z",
     "iopub.status.busy": "2023-04-06T10:01:42.641878Z",
     "iopub.status.idle": "2023-04-06T10:01:42.702342Z",
     "shell.execute_reply": "2023-04-06T10:01:42.701596Z"
    }
   },
   "outputs": [
    {
     "ename": "NameError",
     "evalue": "name 'asp' is not defined",
     "output_type": "error",
     "traceback": [
      "\u001b[0;31m---------------------------------------------------------------------------\u001b[0m",
      "\u001b[0;31mNameError\u001b[0m                                 Traceback (most recent call last)",
      "Cell \u001b[0;32mIn [7], line 1\u001b[0m\n\u001b[0;32m----> 1\u001b[0m \u001b[43masp\u001b[49m\u001b[38;5;241m.\u001b[39mset_number_of_repetition_per_trace(\u001b[38;5;241m8\u001b[39m)  \u001b[38;5;66;03m# same trace but with possible different events\u001b[39;00m\n",
      "\u001b[0;31mNameError\u001b[0m: name 'asp' is not defined"
     ]
    }
   ],
   "source": [
    "asp.set_number_of_repetition_per_trace(8)  # same trace but with possible different events"
   ]
  },
  {
   "cell_type": "code",
   "execution_count": 8,
   "id": "974a92ad-6497-433f-99e4-2f0d79a6e150",
   "metadata": {
    "execution": {
     "iopub.execute_input": "2023-04-06T10:01:42.705539Z",
     "iopub.status.busy": "2023-04-06T10:01:42.705036Z",
     "iopub.status.idle": "2023-04-06T10:01:42.720303Z",
     "shell.execute_reply": "2023-04-06T10:01:42.719476Z"
    },
    "scrolled": true
   },
   "outputs": [
    {
     "ename": "NameError",
     "evalue": "name 'asp' is not defined",
     "output_type": "error",
     "traceback": [
      "\u001b[0;31m---------------------------------------------------------------------------\u001b[0m",
      "\u001b[0;31mNameError\u001b[0m                                 Traceback (most recent call last)",
      "Cell \u001b[0;32mIn [8], line 2\u001b[0m\n\u001b[1;32m      1\u001b[0m \u001b[38;5;66;03m# Generate the traces and parse the result produced by clingo\u001b[39;00m\n\u001b[0;32m----> 2\u001b[0m \u001b[43masp\u001b[49m\u001b[38;5;241m.\u001b[39mrun()  \u001b[38;5;66;03m# Run accets 1 optional value whether to create file for the ASP generated from given declare model\u001b[39;00m\n",
      "\u001b[0;31mNameError\u001b[0m: name 'asp' is not defined"
     ]
    }
   ],
   "source": [
    "# Generate the traces and parse the result produced by clingo\n",
    "asp.run()  # Run accets 1 optional value whether to create file for the ASP generated from given declare model\n"
   ]
  },
  {
   "cell_type": "code",
   "execution_count": 9,
   "id": "a03b7b40-e718-4783-a8e4-36528bd4d01d",
   "metadata": {
    "execution": {
     "iopub.execute_input": "2023-04-06T10:01:42.723594Z",
     "iopub.status.busy": "2023-04-06T10:01:42.723070Z",
     "iopub.status.idle": "2023-04-06T10:01:42.736028Z",
     "shell.execute_reply": "2023-04-06T10:01:42.735384Z"
    }
   },
   "outputs": [
    {
     "ename": "NameError",
     "evalue": "name 'asp' is not defined",
     "output_type": "error",
     "traceback": [
      "\u001b[0;31m---------------------------------------------------------------------------\u001b[0m",
      "\u001b[0;31mNameError\u001b[0m                                 Traceback (most recent call last)",
      "Cell \u001b[0;32mIn [9], line 2\u001b[0m\n\u001b[1;32m      1\u001b[0m \u001b[38;5;66;03m# Save file to xes\u001b[39;00m\n\u001b[0;32m----> 2\u001b[0m \u001b[43masp\u001b[49m\u001b[38;5;241m.\u001b[39mto_xes(output_file\u001b[38;5;241m.\u001b[39mas_posix())\n",
      "\u001b[0;31mNameError\u001b[0m: name 'asp' is not defined"
     ]
    }
   ],
   "source": [
    "# Save file to xes\n",
    "asp.to_xes(output_file.as_posix())"
   ]
  },
  {
   "cell_type": "code",
   "execution_count": 10,
   "id": "16c4df61",
   "metadata": {
    "execution": {
     "iopub.execute_input": "2023-04-06T10:01:42.738802Z",
     "iopub.status.busy": "2023-04-06T10:01:42.738507Z",
     "iopub.status.idle": "2023-04-06T10:01:42.751817Z",
     "shell.execute_reply": "2023-04-06T10:01:42.751197Z"
    }
   },
   "outputs": [
    {
     "ename": "NameError",
     "evalue": "name 'asp' is not defined",
     "output_type": "error",
     "traceback": [
      "\u001b[0;31m---------------------------------------------------------------------------\u001b[0m",
      "\u001b[0;31mNameError\u001b[0m                                 Traceback (most recent call last)",
      "Cell \u001b[0;32mIn [10], line 1\u001b[0m\n\u001b[0;32m----> 1\u001b[0m \u001b[43masp\u001b[49m\u001b[38;5;241m.\u001b[39mset_distribution(\u001b[38;5;124m\"\u001b[39m\u001b[38;5;124mcustom\u001b[39m\u001b[38;5;124m\"\u001b[39m, custom_probabilities\u001b[38;5;241m=\u001b[39m[\u001b[38;5;241m0.0\u001b[39m, \u001b[38;5;241m0.9\u001b[39m, \u001b[38;5;241m0.0\u001b[39m, \u001b[38;5;241m0.0\u001b[39m, \u001b[38;5;241m0.1\u001b[39m])\n",
      "\u001b[0;31mNameError\u001b[0m: name 'asp' is not defined"
     ]
    }
   ],
   "source": [
    "asp.set_distribution(\"custom\", custom_probabilities=[0.0, 0.9, 0.0, 0.0, 0.1])"
   ]
  },
  {
   "cell_type": "code",
   "execution_count": 11,
   "id": "eae4ba22",
   "metadata": {
    "execution": {
     "iopub.execute_input": "2023-04-06T10:01:42.754594Z",
     "iopub.status.busy": "2023-04-06T10:01:42.754231Z",
     "iopub.status.idle": "2023-04-06T10:01:42.767499Z",
     "shell.execute_reply": "2023-04-06T10:01:42.766737Z"
    }
   },
   "outputs": [
    {
     "ename": "NameError",
     "evalue": "name 'asp' is not defined",
     "output_type": "error",
     "traceback": [
      "\u001b[0;31m---------------------------------------------------------------------------\u001b[0m",
      "\u001b[0;31mNameError\u001b[0m                                 Traceback (most recent call last)",
      "Cell \u001b[0;32mIn [11], line 1\u001b[0m\n\u001b[0;32m----> 1\u001b[0m \u001b[43masp\u001b[49m\u001b[38;5;241m.\u001b[39mrun()\n",
      "\u001b[0;31mNameError\u001b[0m: name 'asp' is not defined"
     ]
    }
   ],
   "source": [
    "asp.run()"
   ]
  },
  {
   "cell_type": "code",
   "execution_count": 12,
   "id": "a6e602c3",
   "metadata": {
    "execution": {
     "iopub.execute_input": "2023-04-06T10:01:42.770965Z",
     "iopub.status.busy": "2023-04-06T10:01:42.770312Z",
     "iopub.status.idle": "2023-04-06T10:01:42.783547Z",
     "shell.execute_reply": "2023-04-06T10:01:42.782802Z"
    }
   },
   "outputs": [
    {
     "ename": "NameError",
     "evalue": "name 'asp' is not defined",
     "output_type": "error",
     "traceback": [
      "\u001b[0;31m---------------------------------------------------------------------------\u001b[0m",
      "\u001b[0;31mNameError\u001b[0m                                 Traceback (most recent call last)",
      "Cell \u001b[0;32mIn [12], line 1\u001b[0m\n\u001b[0;32m----> 1\u001b[0m \u001b[43masp\u001b[49m\u001b[38;5;241m.\u001b[39mto_xes(output_file\u001b[38;5;241m.\u001b[39mas_posix())\n",
      "\u001b[0;31mNameError\u001b[0m: name 'asp' is not defined"
     ]
    }
   ],
   "source": [
    "asp.to_xes(output_file.as_posix())"
   ]
  },
  {
   "cell_type": "code",
   "execution_count": null,
   "id": "fe003e19",
   "metadata": {},
   "outputs": [],
   "source": []
  }
 ],
 "metadata": {
  "kernelspec": {
   "display_name": "Python 3 (ipykernel)",
   "language": "python",
   "name": "python3"
  },
  "language_info": {
   "codemirror_mode": {
    "name": "ipython",
    "version": 3
   },
   "file_extension": ".py",
   "mimetype": "text/x-python",
   "name": "python",
   "nbconvert_exporter": "python",
   "pygments_lexer": "ipython3",
   "version": "3.11.2"
  }
 },
 "nbformat": 4,
 "nbformat_minor": 5
}
