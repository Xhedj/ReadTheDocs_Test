{
 "cells": [
  {
   "cell_type": "markdown",
   "id": "0009d44f-be72-4bb2-9ca6-487a2be24ce1",
   "metadata": {
    "tags": []
   },
   "source": [
    "# Generate pm4py log using ASP Generator\n",
    "\n",
    "ASP log generator uses the decl model which converts the model into abudction logic programming and pass to the clingo.\n",
    "Clingo generates the output which is turned into the pm4py log or can be created a .xes file.\n"
   ]
  },
  {
   "cell_type": "code",
   "execution_count": 1,
   "id": "1eb21bf2-bf41-46b2-96e3-806047cc8cb1",
   "metadata": {
    "execution": {
     "iopub.execute_input": "2023-04-06T10:01:39.629701Z",
     "iopub.status.busy": "2023-04-06T10:01:39.629372Z",
     "iopub.status.idle": "2023-04-06T10:01:39.749705Z",
     "shell.execute_reply": "2023-04-06T10:01:39.748040Z"
    }
   },
   "outputs": [
    {
     "name": "stdout",
     "output_type": "stream",
     "text": [
      "Python 3.11.2\r\n"
     ]
    }
   ],
   "source": [
    "!python --version"
   ]
  },
  {
   "cell_type": "code",
   "execution_count": 2,
   "id": "2938753f-7b7c-4095-b918-1a667621e50d",
   "metadata": {
    "execution": {
     "iopub.execute_input": "2023-04-06T10:01:39.753525Z",
     "iopub.status.busy": "2023-04-06T10:01:39.753249Z",
     "iopub.status.idle": "2023-04-06T10:01:39.888269Z",
     "shell.execute_reply": "2023-04-06T10:01:39.887088Z"
    },
    "tags": []
   },
   "outputs": [
    {
     "ename": "ModuleNotFoundError",
     "evalue": "No module named 'src'",
     "output_type": "error",
     "traceback": [
      "\u001b[0;31m---------------------------------------------------------------------------\u001b[0m",
      "\u001b[0;31mModuleNotFoundError\u001b[0m                       Traceback (most recent call last)",
      "Cell \u001b[0;32mIn [2], line 9\u001b[0m\n\u001b[1;32m      6\u001b[0m SCRIPT_DIR \u001b[38;5;241m=\u001b[39m pathlib\u001b[38;5;241m.\u001b[39mPath(\u001b[38;5;124m\"\u001b[39m\u001b[38;5;124m..\u001b[39m\u001b[38;5;124m\"\u001b[39m, \u001b[38;5;124m\"\u001b[39m\u001b[38;5;124m..\u001b[39m\u001b[38;5;124m\"\u001b[39m, \u001b[38;5;124m\"\u001b[39m\u001b[38;5;124msrc\u001b[39m\u001b[38;5;124m\"\u001b[39m)\u001b[38;5;241m.\u001b[39mresolve()\n\u001b[1;32m      7\u001b[0m sys\u001b[38;5;241m.\u001b[39mpath\u001b[38;5;241m.\u001b[39mappend(os\u001b[38;5;241m.\u001b[39mpath\u001b[38;5;241m.\u001b[39mdirname(SCRIPT_DIR))\n\u001b[0;32m----> 9\u001b[0m \u001b[38;5;28;01mfrom\u001b[39;00m \u001b[38;5;21;01msrc\u001b[39;00m\u001b[38;5;21;01m.\u001b[39;00m\u001b[38;5;21;01mdeclare4py\u001b[39;00m\u001b[38;5;21;01m.\u001b[39;00m\u001b[38;5;21;01mpm_tasks\u001b[39;00m\u001b[38;5;21;01m.\u001b[39;00m\u001b[38;5;21;01mlog_generation\u001b[39;00m\u001b[38;5;21;01m.\u001b[39;00m\u001b[38;5;21;01masp\u001b[39;00m\u001b[38;5;21;01m.\u001b[39;00m\u001b[38;5;21;01masp_generator\u001b[39;00m \u001b[38;5;28;01mimport\u001b[39;00m AspGenerator\n\u001b[1;32m     10\u001b[0m \u001b[38;5;28;01mfrom\u001b[39;00m \u001b[38;5;21;01msrc\u001b[39;00m\u001b[38;5;21;01m.\u001b[39;00m\u001b[38;5;21;01mdeclare4py\u001b[39;00m\u001b[38;5;21;01m.\u001b[39;00m\u001b[38;5;21;01mprocess_models\u001b[39;00m\u001b[38;5;21;01m.\u001b[39;00m\u001b[38;5;21;01mdecl_model\u001b[39;00m \u001b[38;5;28;01mimport\u001b[39;00m DeclModel\n",
      "\u001b[0;31mModuleNotFoundError\u001b[0m: No module named 'src'"
     ]
    }
   ],
   "source": [
    "import sys\n",
    "import os\n",
    "import pathlib\n",
    "import logging\n",
    "\n",
    "SCRIPT_DIR = pathlib.Path(\"..\", \"..\", \"src\").resolve()\n",
    "sys.path.append(os.path.dirname(SCRIPT_DIR))\n",
    "\n",
    "from src.declare4py.pm_tasks.log_generation.asp.asp_generator import AspGenerator\n",
    "from src.declare4py.process_models.decl_model import DeclModel"
   ]
  },
  {
   "cell_type": "code",
   "execution_count": 3,
   "id": "0b9d5123-dc4f-4a75-bdd1-d4235d636772",
   "metadata": {
    "execution": {
     "iopub.execute_input": "2023-04-06T10:01:39.893023Z",
     "iopub.status.busy": "2023-04-06T10:01:39.892683Z",
     "iopub.status.idle": "2023-04-06T10:01:39.897315Z",
     "shell.execute_reply": "2023-04-06T10:01:39.896558Z"
    },
    "tags": []
   },
   "outputs": [],
   "source": [
    "decl_model_1 = \"decl_files/Response.decl\"\n",
    "decl_model_2 = \"decl_files/MikeModel.decl\"\n",
    "decl_model_3 = \"decl_files/reference10.decl\"\n",
    "decl_model_4 = \"diagonisis.decl\"\n",
    "decl_folder = \"decl_files\"\n",
    "\n",
    "decl_filename = decl_model_4.split(\".\")[0]\n",
    "output_file = pathlib.Path(\".\", f\"{decl_filename}.xes\")\n",
    "decl_file = pathlib.Path(\".\", decl_folder, decl_model_4)"
   ]
  },
  {
   "cell_type": "code",
   "execution_count": 4,
   "id": "4b2d84b6-6a5a-4b3c-a0bb-335981eb6374",
   "metadata": {
    "execution": {
     "iopub.execute_input": "2023-04-06T10:01:39.900258Z",
     "iopub.status.busy": "2023-04-06T10:01:39.899978Z",
     "iopub.status.idle": "2023-04-06T10:01:39.913852Z",
     "shell.execute_reply": "2023-04-06T10:01:39.912919Z"
    }
   },
   "outputs": [
    {
     "ename": "NameError",
     "evalue": "name 'DeclModel' is not defined",
     "output_type": "error",
     "traceback": [
      "\u001b[0;31m---------------------------------------------------------------------------\u001b[0m",
      "\u001b[0;31mNameError\u001b[0m                                 Traceback (most recent call last)",
      "Cell \u001b[0;32mIn [4], line 3\u001b[0m\n\u001b[1;32m      1\u001b[0m \u001b[38;5;66;03m# Create Declare model by reading declare model from a file.\u001b[39;00m\n\u001b[0;32m----> 3\u001b[0m model: DeclModel \u001b[38;5;241m=\u001b[39m \u001b[43mDeclModel\u001b[49m()\u001b[38;5;241m.\u001b[39mparse_from_file(decl_file)\n",
      "\u001b[0;31mNameError\u001b[0m: name 'DeclModel' is not defined"
     ]
    }
   ],
   "source": [
    "# Create Declare model by reading declare model from a file.\n",
    "\n",
    "model: DeclModel = DeclModel().parse_from_file(decl_file)\n"
   ]
  },
  {
   "cell_type": "code",
   "execution_count": 5,
   "id": "f4b87ba4-2740-4006-b40f-b0ae95bab202",
   "metadata": {
    "execution": {
     "iopub.execute_input": "2023-04-06T10:01:39.917494Z",
     "iopub.status.busy": "2023-04-06T10:01:39.917230Z",
     "iopub.status.idle": "2023-04-06T10:01:39.921195Z",
     "shell.execute_reply": "2023-04-06T10:01:39.920550Z"
    }
   },
   "outputs": [],
   "source": [
    "#general Setting\n",
    "\n",
    "# Number of traces that should be generated\n",
    "num_of_traces = 50\n",
    "\n",
    "# Minimum and maximum number of events a trace can contain\n",
    "(num_min_events, num_max_events) = (2, 5)\n"
   ]
  },
  {
   "cell_type": "code",
   "execution_count": 6,
   "id": "b9dc4474-319b-40e0-95a7-c8ac36a18f2b",
   "metadata": {
    "execution": {
     "iopub.execute_input": "2023-04-06T10:01:39.924201Z",
     "iopub.status.busy": "2023-04-06T10:01:39.923843Z",
     "iopub.status.idle": "2023-04-06T10:01:39.939522Z",
     "shell.execute_reply": "2023-04-06T10:01:39.938673Z"
    }
   },
   "outputs": [
    {
     "ename": "NameError",
     "evalue": "name 'AspGenerator' is not defined",
     "output_type": "error",
     "traceback": [
      "\u001b[0;31m---------------------------------------------------------------------------\u001b[0m",
      "\u001b[0;31mNameError\u001b[0m                                 Traceback (most recent call last)",
      "Cell \u001b[0;32mIn [6], line 4\u001b[0m\n\u001b[1;32m      1\u001b[0m \u001b[38;5;66;03m# Initializing ASP generator with default distributor which is uniform.\u001b[39;00m\n\u001b[1;32m      2\u001b[0m \n\u001b[1;32m      3\u001b[0m \u001b[38;5;66;03m#logging.basicConfig(level=logging.DEBUG)\u001b[39;00m\n\u001b[0;32m----> 4\u001b[0m asp \u001b[38;5;241m=\u001b[39m \u001b[43mAspGenerator\u001b[49m(\n\u001b[1;32m      5\u001b[0m     model,\n\u001b[1;32m      6\u001b[0m     num_of_traces,\n\u001b[1;32m      7\u001b[0m     num_min_events,\n\u001b[1;32m      8\u001b[0m     num_max_events,\n\u001b[1;32m      9\u001b[0m     encode_decl_model\u001b[38;5;241m=\u001b[39m\u001b[38;5;28;01mTrue\u001b[39;00m  \u001b[38;5;66;03m#\u001b[39;00m\n\u001b[1;32m     10\u001b[0m )\n",
      "\u001b[0;31mNameError\u001b[0m: name 'AspGenerator' is not defined"
     ]
    }
   ],
   "source": [
    "# Initializing ASP generator with default distributor which is uniform.\n",
    "\n",
    "#logging.basicConfig(level=logging.DEBUG)\n",
    "asp = AspGenerator(\n",
    "    model,\n",
    "    num_of_traces,\n",
    "    num_min_events,\n",
    "    num_max_events,\n",
    "    encode_decl_model=True  #\n",
    ")\n"
   ]
  },
  {
   "cell_type": "code",
   "execution_count": 7,
   "id": "1a35131f-9c1c-44d3-9660-a6c657fed23a",
   "metadata": {
    "execution": {
     "iopub.execute_input": "2023-04-06T10:01:39.942653Z",
     "iopub.status.busy": "2023-04-06T10:01:39.942151Z",
     "iopub.status.idle": "2023-04-06T10:01:40.016810Z",
     "shell.execute_reply": "2023-04-06T10:01:40.016107Z"
    }
   },
   "outputs": [
    {
     "ename": "NameError",
     "evalue": "name 'asp' is not defined",
     "output_type": "error",
     "traceback": [
      "\u001b[0;31m---------------------------------------------------------------------------\u001b[0m",
      "\u001b[0;31mNameError\u001b[0m                                 Traceback (most recent call last)",
      "Cell \u001b[0;32mIn [7], line 12\u001b[0m\n\u001b[1;32m      1\u001b[0m \u001b[38;5;66;03m# Violates some constraints for declare model\u001b[39;00m\n\u001b[1;32m      2\u001b[0m \n\u001b[1;32m      3\u001b[0m \u001b[38;5;66;03m# NOTE: this examples or cell is only configured according to the `decl_model_4` file\u001b[39;00m\n\u001b[0;32m   (...)\u001b[0m\n\u001b[1;32m      7\u001b[0m \u001b[38;5;66;03m# templates or some of them( will be decided by clingo). The second param = True means\u001b[39;00m\n\u001b[1;32m      8\u001b[0m \u001b[38;5;66;03m# all the contstraint should be violate which are available in the subset (which you add in the array string/int).\u001b[39;00m\n\u001b[0;32m---> 12\u001b[0m \u001b[43masp\u001b[49m\u001b[38;5;241m.\u001b[39mset_constraints_to_violate(\u001b[38;5;241m1\u001b[39m, \u001b[38;5;28;01mTrue\u001b[39;00m, [\n\u001b[1;32m     13\u001b[0m     \u001b[38;5;66;03m# \"Existence[act2] | |\",\u001b[39;00m\n\u001b[1;32m     14\u001b[0m     \u001b[38;5;66;03m# \"Existence[act4] | |\"\u001b[39;00m\n\u001b[1;32m     15\u001b[0m     \u001b[38;5;124m\"\u001b[39m\u001b[38;5;124mResponse[Driving_Test, Resit] |A.Grade<=2 | |\u001b[39m\u001b[38;5;124m\"\u001b[39m\n\u001b[1;32m     16\u001b[0m     \u001b[38;5;66;03m# \"Chain Response[Admission IC, Admission NC] |A.org:group is J |T.org:group is J |61534,61534,s\",\u001b[39;00m\n\u001b[1;32m     17\u001b[0m     \u001b[38;5;66;03m# \"Chain Response[LacticAcid, Leucocytes] |A.LacticAcid <= 0.8 |T.Leucocytes >= 13.8 |0,2778,m\",\u001b[39;00m\n\u001b[1;32m     18\u001b[0m ])\n\u001b[1;32m     21\u001b[0m \u001b[38;5;66;03m# the deference between these two methods is that you can decide if you want to pass the constraint\u001b[39;00m\n\u001b[1;32m     22\u001b[0m \u001b[38;5;66;03m# template list of strings or the indexes of constraint templates generated by model itself in order\u001b[39;00m\n\u001b[1;32m     23\u001b[0m \n\u001b[1;32m     24\u001b[0m \u001b[38;5;66;03m# asp.set_constraints_to_violate_by_template_index(1, True, [2]) \u001b[39;00m\n",
      "\u001b[0;31mNameError\u001b[0m: name 'asp' is not defined"
     ]
    }
   ],
   "source": [
    "# Violates some constraints for declare model\n",
    "\n",
    "# NOTE: this examples or cell is only configured according to the `decl_model_4` file\n",
    "\n",
    "# You can add constraint templates as a string array to be violated from the declared model lines.\n",
    "# You can use the flag `violate_all_constraints_in_subset` in order to tell clingo, to violate all\n",
    "# templates or some of them( will be decided by clingo). The second param = True means\n",
    "# all the contstraint should be violate which are available in the subset (which you add in the array string/int).\n",
    "\n",
    "\n",
    "\n",
    "asp.set_constraints_to_violate(1, True, [\n",
    "    # \"Existence[act2] | |\",\n",
    "    # \"Existence[act4] | |\"\n",
    "    \"Response[Driving_Test, Resit] |A.Grade<=2 | |\"\n",
    "    # \"Chain Response[Admission IC, Admission NC] |A.org:group is J |T.org:group is J |61534,61534,s\",\n",
    "    # \"Chain Response[LacticAcid, Leucocytes] |A.LacticAcid <= 0.8 |T.Leucocytes >= 13.8 |0,2778,m\",\n",
    "])\n",
    "\n",
    "\n",
    "# the deference between these two methods is that you can decide if you want to pass the constraint\n",
    "# template list of strings or the indexes of constraint templates generated by model itself in order\n",
    "\n",
    "# asp.set_constraints_to_violate_by_template_index(1, True, [2]) \n"
   ]
  },
  {
   "cell_type": "code",
   "execution_count": 8,
   "id": "974a92ad-6497-433f-99e4-2f0d79a6e150",
   "metadata": {
    "execution": {
     "iopub.execute_input": "2023-04-06T10:01:40.019783Z",
     "iopub.status.busy": "2023-04-06T10:01:40.019513Z",
     "iopub.status.idle": "2023-04-06T10:01:40.034385Z",
     "shell.execute_reply": "2023-04-06T10:01:40.033733Z"
    },
    "scrolled": true,
    "tags": []
   },
   "outputs": [
    {
     "ename": "NameError",
     "evalue": "name 'asp' is not defined",
     "output_type": "error",
     "traceback": [
      "\u001b[0;31m---------------------------------------------------------------------------\u001b[0m",
      "\u001b[0;31mNameError\u001b[0m                                 Traceback (most recent call last)",
      "Cell \u001b[0;32mIn [8], line 2\u001b[0m\n\u001b[1;32m      1\u001b[0m \u001b[38;5;66;03m# Generate the traces and parse the result produced by clingo\u001b[39;00m\n\u001b[0;32m----> 2\u001b[0m \u001b[43masp\u001b[49m\u001b[38;5;241m.\u001b[39mrun()  \u001b[38;5;66;03m# Run accets 1 optional value whether to create file for the ASP generated from given declare model\u001b[39;00m\n",
      "\u001b[0;31mNameError\u001b[0m: name 'asp' is not defined"
     ]
    }
   ],
   "source": [
    "# Generate the traces and parse the result produced by clingo\n",
    "asp.run()  # Run accets 1 optional value whether to create file for the ASP generated from given declare model\n"
   ]
  },
  {
   "cell_type": "code",
   "execution_count": 9,
   "id": "a03b7b40-e718-4783-a8e4-36528bd4d01d",
   "metadata": {
    "execution": {
     "iopub.execute_input": "2023-04-06T10:01:40.037267Z",
     "iopub.status.busy": "2023-04-06T10:01:40.036998Z",
     "iopub.status.idle": "2023-04-06T10:01:40.052187Z",
     "shell.execute_reply": "2023-04-06T10:01:40.051529Z"
    },
    "scrolled": true
   },
   "outputs": [
    {
     "ename": "NameError",
     "evalue": "name 'asp' is not defined",
     "output_type": "error",
     "traceback": [
      "\u001b[0;31m---------------------------------------------------------------------------\u001b[0m",
      "\u001b[0;31mNameError\u001b[0m                                 Traceback (most recent call last)",
      "Cell \u001b[0;32mIn [9], line 2\u001b[0m\n\u001b[1;32m      1\u001b[0m \u001b[38;5;66;03m# Save file to xes\u001b[39;00m\n\u001b[0;32m----> 2\u001b[0m \u001b[43masp\u001b[49m\u001b[38;5;241m.\u001b[39mto_xes(output_file\u001b[38;5;241m.\u001b[39mas_posix())\n",
      "\u001b[0;31mNameError\u001b[0m: name 'asp' is not defined"
     ]
    }
   ],
   "source": [
    "# Save file to xes\n",
    "asp.to_xes(output_file.as_posix())"
   ]
  },
  {
   "cell_type": "code",
   "execution_count": null,
   "id": "c7ace184",
   "metadata": {},
   "outputs": [],
   "source": []
  }
 ],
 "metadata": {
  "kernelspec": {
   "display_name": "Python 3 (ipykernel)",
   "language": "python",
   "name": "python3"
  },
  "language_info": {
   "codemirror_mode": {
    "name": "ipython",
    "version": 3
   },
   "file_extension": ".py",
   "mimetype": "text/x-python",
   "name": "python",
   "nbconvert_exporter": "python",
   "pygments_lexer": "ipython3",
   "version": "3.11.2"
  }
 },
 "nbformat": 4,
 "nbformat_minor": 5
}
